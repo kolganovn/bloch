{
 "cells": [
  {
   "cell_type": "code",
   "execution_count": 1,
   "metadata": {},
   "outputs": [],
   "source": [
    "import numpy as np\n",
    "from numpy import sqrt, sin, cos, pi, arccos\n",
    "import matplotlib.pyplot as plt\n",
    "from scipy.integrate import odeint\n",
    "from scipy.interpolate import interp1d\n",
    "from scipy.optimize import brute"
   ]
  },
  {
   "cell_type": "markdown",
   "metadata": {},
   "source": [
    "# Условие существования энергетической зоны в периодическом потенциале\n",
    "\n",
    "Условие принадлежности энергии $E$ одной из энергетических зон определяется следующим образом. \n",
    "Запишем два линейно независимых решения $\\psi_1^E(x)$, $\\psi_2^E(x)$ стационарного уравнения Шрёдингера\n",
    "$$\n",
    "-\\frac{\\hbar^2}{2m} \\psi''(x) + V(x) \\psi(x) = E \\psi(x),\n",
    "$$\n",
    "заданных начальными условиями\n",
    "\\begin{align*}\n",
    "    \\psi_1^E(0) &= 1, &  {\\psi_1^E}'(0) &= 0, \\\\\n",
    "    \\psi_2^E(0) &= 0, &  {\\psi_2^E}'(0) &= 1,\n",
    "\\end{align*}\n",
    "и составим из них матрицу\n",
    "$$\n",
    "    M(x, E) = \n",
    "    \\begin{pmatrix}\n",
    "        \\psi_1^E(x) & \\psi_2^E(x) \\\\\n",
    "        {\\psi_1^E}'(x) & {\\psi_2^E}'(x)\n",
    "    \\end{pmatrix}.\n",
    "$$\n",
    "Нетрудно убедиться, что $\\det M(x,E) = 1$.\n",
    "Cдвиг произвольного решения\n",
    "$$\n",
    "    \\psi(x) = \\begin{pmatrix}\\psi_1^E(x) & \\psi_2^E(x) \\end{pmatrix} \n",
    "    \\begin{pmatrix}\n",
    "        A_1 \\\\ A_2\n",
    "    \\end{pmatrix}\n",
    "$$\n",
    "задаётся матрицей $M(a, E)$\n",
    "$$\n",
    "    \\psi(x+a) = \\begin{pmatrix}\\psi_1^E(x) & \\psi_2^E(x) \\end{pmatrix}\n",
    "    \\begin{pmatrix}\n",
    "        A_1' \\\\ A_2'\n",
    "    \\end{pmatrix}, \\qquad\n",
    "    \\begin{pmatrix}\n",
    "        A_1' \\\\ A_2'\n",
    "    \\end{pmatrix} = \n",
    "    M(a, E)\n",
    "    \\begin{pmatrix}\n",
    "        A_1 \\\\ A_2\n",
    "    \\end{pmatrix}.\n",
    "$$\n",
    "Рассмотрим $\\psi(x)$, собственный для оператора трансляции\n",
    "$$\n",
    "    \\psi(x+a) = \\lambda \\psi(x), \\quad \\leftrightarrow \\quad\n",
    "    M(a, E)\n",
    "    \\begin{pmatrix}\n",
    "        A_1 \\\\ A_2\n",
    "    \\end{pmatrix} = \\lambda \\begin{pmatrix}\n",
    "        A_1 \\\\ A_2\n",
    "    \\end{pmatrix}.\n",
    "$$\n",
    "Тогда условие ограниченности $\\psi(x)$ эквивалентно $\\lambda = e^{i\\theta}$. Два собственных значения $M(a,E)$ взаимнообратны друг другу так как\n",
    "$$\n",
    "    \\det M(a, E) = \\lambda_1 \\lambda_2 = 1, \\quad \\leftrightarrow \\quad \\lambda_1 = \\frac1{\\lambda_2}\n",
    "$$\n",
    "a след $M(a, E)$ выражается через $\\lambda = e^{i\\theta}$ как\n",
    "$$\n",
    "    \\gamma(E) := \\frac12 \\operatorname{tr} M(a,E) = \\frac12( \\lambda_1+ \\lambda_2) = \\frac12(e^{i\\theta} + e^{-i\\theta}) = \\cos\\theta\n",
    "$$\n",
    "Значит условие на принадлежность $E$ зоне эквивалентно существованию решения уравнения\n",
    "$$\n",
    "    \\gamma(E) = \\cos\\theta,\n",
    "$$\n",
    "то есть\n",
    "$$\n",
    "    -1 \\le \\gamma(E) \\le 1.\n",
    "$$"
   ]
  },
  {
   "cell_type": "markdown",
   "metadata": {},
   "source": [
    "# Применение к конкретному потенциалу\n",
    "\n",
    "Запишем функцию, задающую периодический потенциал, часто встречающийся в жизни.\n",
    "\n",
    "<img src=\"city.png\" alt=\"drawing\" width=\"750\"/>"
   ]
  },
  {
   "cell_type": "code",
   "execution_count": 9,
   "metadata": {},
   "outputs": [
    {
     "data": {
      "image/png": "[encoded data removed]",
      "text/plain": [
       "<Figure size 432x288 with 1 Axes>"
      ]
     },
     "metadata": {
      "needs_background": "light"
     },
     "output_type": "display_data"
    }
   ],
   "source": [
    "pts = [[0, 0.075444], [1e-07, 0.113166], [0.084874, 0.141457], [0.169748, 0.113166], \n",
    "       [0.1697481, 0.075444], [0.169748, 0.075444], [0.188609, 0.075444], [0.1886091, 0.103735],\n",
    "       [0.264053, 0.264053], [0.339497, 0.103735], [0.3394971, 0.075444], [0.358358, 0.075444],\n",
    "       [0.3583581, 0.094305], [0.40551, 0.132027], [0.462093, 0.132027], [0.4620931, 0.141457],\n",
    "       [0.518676, 0.141457], [0.5186761, 0.132027], [0.575259, 0.132027], [0.622411, 0.094305],\n",
    "       [0.6224111, 0.075444], [0.641272, 0.075444], [0.6412721, 0.113166], [0.735576, 0.160318],\n",
    "       [0.829881, 0.113166], [0.8298811, 0.075444], [0.848742, 0.075444], [0.8487421, 0.20747],\n",
    "       [0.914756, 0.226331], [0.980769, 0.20747], [0.9807691, 0.075444], [1.0, 0.075444]]\n",
    "\n",
    "pre_pot = interp1d(np.array(pts)[:,0], np.array(pts)[:,1])\n",
    "\n",
    "def potential(x):\n",
    "    x = x % 1.\n",
    "    return 100*pre_pot(x)\n",
    "\n",
    "xl = np.linspace(0., 1., 1000)\n",
    "plt.plot(xl, [potential(x) for x in xl])\n",
    "plt.show()"
   ]
  },
  {
   "cell_type": "markdown",
   "metadata": {},
   "source": [
    "Построим численно решения уравнения Шредингера $\\psi_1^E(x)$, $\\psi_2^E(x)$ с помощью функции [`odeint` пакета `scipy.integrate`](https://docs.scipy.org/doc/scipy/reference/generated/scipy.integrate.odeint.html).\n",
    "Для этого приведем стационарное уравнение Шрёдингера к системе уравнений первого порядка\n",
    "$$\n",
    "    \\psi'(x) = \\phi(x),\\qquad\n",
    "    \\phi'(x) = \\frac{2m}{\\hbar^2}\\bigl(V(x)-E\\bigr) \\, \\phi(x).\n",
    "$$\n",
    "Координаты обезразмерим периодом $a$, а энергию &mdash; величиной $\\frac{\\hbar^2}{2m a^2}$."
   ]
  },
  {
   "cell_type": "code",
   "execution_count": 10,
   "metadata": {},
   "outputs": [],
   "source": [
    "def schr_rhs(y, x, E, pot):\n",
    "    return [y[1], 2*(pot(x) - E)*y[0]]"
   ]
  },
  {
   "cell_type": "code",
   "execution_count": 17,
   "metadata": {},
   "outputs": [
    {
     "data": {
      "image/png": "[encoded data removed]",
      "text/plain": [
       "<Figure size 432x288 with 1 Axes>"
      ]
     },
     "metadata": {
      "needs_background": "light"
     },
     "output_type": "display_data"
    }
   ],
   "source": [
    "E = 14.5\n",
    "\n",
    "lp = np.linspace(0., 1., 200)\n",
    "y1 = odeint(schr_rhs, [1, 0], lp, args=(E, potential))\n",
    "y2 = odeint(schr_rhs, [0, 1], lp, args=(E, potential))\n",
    "\n",
    "plt.plot(lp, y1[:,0], label=\"$\\psi_1^E(x)$\")\n",
    "plt.plot(lp, y2[:,0], label=\"$\\psi_2^E(x)$\")\n",
    "plt.legend()\n",
    "plt.show()"
   ]
  },
  {
   "cell_type": "markdown",
   "metadata": {},
   "source": [
    "Далее введём функции, вычисляющие $M(a, E)$ и $\\gamma(E)$\n",
    "$$\n",
    "    M(a, E) = \n",
    "    \\begin{pmatrix}\n",
    "        \\psi_1^E(a) & \\psi_2^E(a) \\\\\n",
    "        {\\psi_1^E}'(a) & {\\psi_2^E}'(a)\n",
    "    \\end{pmatrix}, \\qquad \\gamma(E) = \\operatorname{tr}M(a,E).\n",
    "$$"
   ]
  },
  {
   "cell_type": "code",
   "execution_count": 18,
   "metadata": {},
   "outputs": [],
   "source": [
    "def matrix_M(E, pot):\n",
    "    lp = np.linspace(0., 1., 1000)\n",
    "    y1 = odeint(schr_rhs, [1, 0], lp, args=(E, pot))\n",
    "    y2 = odeint(schr_rhs, [0, 1], lp, args=(E, pot))\n",
    "\n",
    "    M = np.array([y1[-1], y2[-1]])\n",
    "    return M\n",
    "\n",
    "def gamma(E, pot):\n",
    "    return 0.5*matrix_M(E, pot).trace()"
   ]
  },
  {
   "cell_type": "markdown",
   "metadata": {},
   "source": [
    "Так как нет зон с энергией меньше минимума потенциала, введём функцию, вычисляющую этот минимум с помощью функции [`brute` пакета `scipy.optimize`](https://docs.scipy.org/doc/scipy/reference/generated/scipy.optimize.brute.html)."
   ]
  },
  {
   "cell_type": "code",
   "execution_count": 19,
   "metadata": {},
   "outputs": [
    {
     "name": "stdout",
     "output_type": "stream",
     "text": [
      "7.5443999999999996\n"
     ]
    }
   ],
   "source": [
    "def pot_min(pot):\n",
    "    return pot(brute(pot, [(0., 1.)]).min())\n",
    "\n",
    "print(pot_min(potential))"
   ]
  },
  {
   "cell_type": "markdown",
   "metadata": {},
   "source": [
    "Построим функцию $\\gamma(E)$, чтобы определить местоположение зон."
   ]
  },
  {
   "cell_type": "code",
   "execution_count": 20,
   "metadata": {},
   "outputs": [],
   "source": [
    "lE = np.linspace(pot_min(potential), 80., 200)\n",
    "g_data = np.array([gamma(E, potential) for E in lE])"
   ]
  },
  {
   "cell_type": "code",
   "execution_count": 26,
   "metadata": {},
   "outputs": [
    {
     "data": {
      "image/png": "[encoded data removed]",
      "text/plain": [
       "<Figure size 432x288 with 1 Axes>"
      ]
     },
     "metadata": {
      "needs_background": "light"
     },
     "output_type": "display_data"
    }
   ],
   "source": [
    "slc = np.abs(g_data) < 2\n",
    "plt.plot(lE[slc], g_data[slc])\n",
    "plt.plot([lE[0], lE[-1]], [1., 1.], c='g', ls='--')\n",
    "plt.plot([lE[0], lE[-1]], [-1., -1.], c='g', ls='--')\n",
    "plt.ylabel(\"$\\gamma(E)$\")\n",
    "plt.xlabel(\"$E$\")\n",
    "plt.show()"
   ]
  },
  {
   "cell_type": "markdown",
   "metadata": {},
   "source": [
    "# Задание\n",
    "\n",
    "* Придумайте свой периодический потенциал (функцию `potential`). Физически аргументируйте свой выбор:)\n",
    "* Напишите функцию, задающую зависимость $E = E_n(\\theta)$, т.е. зависимость энергии в $n$-ой зоне от фазы собственного значения оператора трансляции $\\theta$.\n",
    "* Постройте на одном графике $E_n(\\theta)$ нескольких первых зон для вашего потенциала, а также для потенциала свободной частицы. Для поиска корней уравнений и минимумов функций рекомендую использовать пакет [`scipy.optimize`](https://docs.scipy.org/doc/scipy/reference/optimize.html).\n",
    "* Для первой зоны постройте график периодической части $\\phi_\\theta(x)$ собственной функции оператора трансляции $\\psi_{\\theta}(x) = e^{i\\theta x/a}\\phi_{\\theta}(x)$. Чем выделены значения $\\theta = 0,\\pm\\pi$?"
   ]
  }
 ],
 "metadata": {
  "kernelspec": {
   "display_name": "Python 3",
   "language": "python",
   "name": "python3"
  },
  "language_info": {
   "codemirror_mode": {
    "name": "ipython",
    "version": 3
   },
   "file_extension": ".py",
   "mimetype": "text/x-python",
   "name": "python",
   "nbconvert_exporter": "python",
   "pygments_lexer": "ipython3",
   "version": "3.6.9"
  }
 },
 "nbformat": 4,
 "nbformat_minor": 4
}
